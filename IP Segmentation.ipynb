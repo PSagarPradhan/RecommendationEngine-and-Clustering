{
 "cells": [
  {
   "cell_type": "code",
   "execution_count": 1,
   "metadata": {},
   "outputs": [
    {
     "name": "stderr",
     "output_type": "stream",
     "text": [
      "C:\\Users\\sagar\\Anaconda3\\lib\\importlib\\_bootstrap.py:219: ImportWarning: can't resolve package from __spec__ or __package__, falling back on __name__ and __path__\n",
      "  return f(*args, **kwds)\n",
      "C:\\Users\\sagar\\Anaconda3\\lib\\importlib\\_bootstrap.py:219: ImportWarning: can't resolve package from __spec__ or __package__, falling back on __name__ and __path__\n",
      "  return f(*args, **kwds)\n"
     ]
    }
   ],
   "source": [
    "import os\n",
    "import pandas as pd\n",
    "import numpy as np\n",
    "import seaborn as sns\n",
    "import warnings\n",
    "warnings.filterwarnings(action='once')\n",
    "import matplotlib.pyplot as plt\n",
    "from functools import reduce\n",
    "import math\n",
    "from sklearn.cluster import KMeans\n",
    "from sklearn.cluster import AffinityPropagation\n",
    "from sklearn import metrics\n",
    "from mlxtend.frequent_patterns import apriori\n",
    "from mlxtend.frequent_patterns import association_rules"
   ]
  },
  {
   "cell_type": "code",
   "execution_count": 3,
   "metadata": {},
   "outputs": [],
   "source": [
    "os.chdir('D:\\\\Purdue\\\\Spring - mod 1\\\\IndustryPracticum\\\\Data')"
   ]
  },
  {
   "cell_type": "code",
   "execution_count": 4,
   "metadata": {},
   "outputs": [
    {
     "name": "stderr",
     "output_type": "stream",
     "text": [
      "C:\\Users\\sagar\\Anaconda3\\lib\\site-packages\\IPython\\core\\interactiveshell.py:2785: DtypeWarning: Columns (16,17,18) have mixed types. Specify dtype option on import or set low_memory=False.\n",
      "  interactivity=interactivity, compiler=compiler, result=result)\n"
     ]
    }
   ],
   "source": [
    "sales_BC = pd.read_csv('D:\\\\Purdue\\\\Spring - mod 1\\\\IndustryPracticum\\\\Data\\\\SalesData_-BC&MB_fixed.csv')\n",
    "sales_SK = pd.read_csv('D:\\\\Purdue\\\\Spring - mod 1\\\\IndustryPracticum\\\\Data\\\\SalesData_-SK_fixed.csv')\n",
    "sales_AB = pd.read_csv('D:\\\\Purdue\\\\Spring - mod 1\\\\IndustryPracticum\\\\Data\\\\SalesData_AB_fixed.csv')"
   ]
  },
  {
   "cell_type": "code",
   "execution_count": 5,
   "metadata": {},
   "outputs": [],
   "source": [
    "sales = pd.concat([sales_BC,sales_SK])\n",
    "sales = pd.concat([sales,sales_AB])"
   ]
  },
  {
   "cell_type": "code",
   "execution_count": 6,
   "metadata": {},
   "outputs": [],
   "source": [
    "sales = sales.rename(columns = {'Crop Year': 'crop_yr','Product Brand': 'Prod_Brand','Product Category': 'Prod_Category'})"
   ]
  },
  {
   "cell_type": "code",
   "execution_count": 7,
   "metadata": {},
   "outputs": [],
   "source": [
    "phi_data = sales[['PHI_area_cd','PHI_district_cd','PHI_territory_cd']]"
   ]
  },
  {
   "cell_type": "code",
   "execution_count": 8,
   "metadata": {},
   "outputs": [],
   "source": [
    "columns = ['PHI_area_cd', 'PHI_district_cd','PHI_territory_cd']\n",
    "sales.drop(columns, inplace=True, axis=1)"
   ]
  },
  {
   "cell_type": "code",
   "execution_count": 10,
   "metadata": {},
   "outputs": [
    {
     "data": {
      "text/html": [
       "<div>\n",
       "<style scoped>\n",
       "    .dataframe tbody tr th:only-of-type {\n",
       "        vertical-align: middle;\n",
       "    }\n",
       "\n",
       "    .dataframe tbody tr th {\n",
       "        vertical-align: top;\n",
       "    }\n",
       "\n",
       "    .dataframe thead th {\n",
       "        text-align: right;\n",
       "    }\n",
       "</style>\n",
       "<table border=\"1\" class=\"dataframe\">\n",
       "  <thead>\n",
       "    <tr style=\"text-align: right;\">\n",
       "      <th></th>\n",
       "      <th>Authorization</th>\n",
       "      <th>Grower_AIN</th>\n",
       "      <th>city_name</th>\n",
       "      <th>province_name</th>\n",
       "      <th>Dealer_AIN</th>\n",
       "      <th>Dealer_City_Name</th>\n",
       "      <th>Dealer_Prov</th>\n",
       "      <th>crop_yr</th>\n",
       "      <th>Season</th>\n",
       "      <th>Business</th>\n",
       "      <th>Prod_Category</th>\n",
       "      <th>Prod_Brand</th>\n",
       "      <th>Rolled product name</th>\n",
       "      <th>SumOfSumOfConverted Quantity</th>\n",
       "      <th>SumOfSumOfConverted Acres</th>\n",
       "      <th>SumOfSumOfConverted Total_MSRP</th>\n",
       "    </tr>\n",
       "  </thead>\n",
       "  <tbody>\n",
       "    <tr>\n",
       "      <th>0</th>\n",
       "      <td>Authorized</td>\n",
       "      <td>10556</td>\n",
       "      <td>Cambridge</td>\n",
       "      <td>ON</td>\n",
       "      <td>CA14R-0005108</td>\n",
       "      <td>Westbourne</td>\n",
       "      <td>MB</td>\n",
       "      <td>2016</td>\n",
       "      <td>Spring</td>\n",
       "      <td>Brevant</td>\n",
       "      <td>Canola Seed</td>\n",
       "      <td>Canola</td>\n",
       "      <td>Nexera Canola Hybrid 1012 RR HV 22.7Kg Bag</td>\n",
       "      <td>33.0</td>\n",
       "      <td>346.5</td>\n",
       "      <td>22164.45</td>\n",
       "    </tr>\n",
       "    <tr>\n",
       "      <th>1</th>\n",
       "      <td>Authorized</td>\n",
       "      <td>10556</td>\n",
       "      <td>Cambridge</td>\n",
       "      <td>ON</td>\n",
       "      <td>CA14R-0005108</td>\n",
       "      <td>Westbourne</td>\n",
       "      <td>MB</td>\n",
       "      <td>2017</td>\n",
       "      <td>Spring</td>\n",
       "      <td>Brevant</td>\n",
       "      <td>Canola Seed</td>\n",
       "      <td>Canola</td>\n",
       "      <td>Nexera Canola 1012 RR VI 22.7Kg</td>\n",
       "      <td>6.0</td>\n",
       "      <td>63.0</td>\n",
       "      <td>4290.00</td>\n",
       "    </tr>\n",
       "  </tbody>\n",
       "</table>\n",
       "</div>"
      ],
      "text/plain": [
       "  Authorization Grower_AIN  city_name province_name     Dealer_AIN  \\\n",
       "0    Authorized      10556  Cambridge            ON  CA14R-0005108   \n",
       "1    Authorized      10556  Cambridge            ON  CA14R-0005108   \n",
       "\n",
       "  Dealer_City_Name Dealer_Prov  crop_yr  Season Business Prod_Category  \\\n",
       "0       Westbourne          MB     2016  Spring  Brevant   Canola Seed   \n",
       "1       Westbourne          MB     2017  Spring  Brevant   Canola Seed   \n",
       "\n",
       "  Prod_Brand                         Rolled product name  \\\n",
       "0     Canola  Nexera Canola Hybrid 1012 RR HV 22.7Kg Bag   \n",
       "1     Canola             Nexera Canola 1012 RR VI 22.7Kg   \n",
       "\n",
       "   SumOfSumOfConverted Quantity  SumOfSumOfConverted Acres  \\\n",
       "0                          33.0                      346.5   \n",
       "1                           6.0                       63.0   \n",
       "\n",
       "   SumOfSumOfConverted Total_MSRP  \n",
       "0                        22164.45  \n",
       "1                         4290.00  "
      ]
     },
     "execution_count": 10,
     "metadata": {},
     "output_type": "execute_result"
    }
   ],
   "source": [
    "sales.head(2)"
   ]
  },
  {
   "cell_type": "code",
   "execution_count": 16,
   "metadata": {},
   "outputs": [
    {
     "data": {
      "text/plain": [
       "array(['ON', 'MB', 'NB', 'SK', 'BC', 'AB', 'NU', 'QC', 'UNKNOWN', 'YT',\n",
       "       'NL', 'NS', 'PE', 'NT'], dtype=object)"
      ]
     },
     "execution_count": 16,
     "metadata": {},
     "output_type": "execute_result"
    }
   ],
   "source": [
    "sales.province_name.unique()"
   ]
  },
  {
   "cell_type": "markdown",
   "metadata": {},
   "source": [
    "# price based aggregation"
   ]
  },
  {
   "cell_type": "code",
   "execution_count": 89,
   "metadata": {},
   "outputs": [],
   "source": [
    "agg1 = sales.groupby(['Grower_AIN','Business'])['SumOfSumOfConverted Total_MSRP'].sum().unstack().fillna(0)       "
   ]
  },
  {
   "cell_type": "code",
   "execution_count": 90,
   "metadata": {},
   "outputs": [
    {
     "data": {
      "text/html": [
       "<div>\n",
       "<style scoped>\n",
       "    .dataframe tbody tr th:only-of-type {\n",
       "        vertical-align: middle;\n",
       "    }\n",
       "\n",
       "    .dataframe tbody tr th {\n",
       "        vertical-align: top;\n",
       "    }\n",
       "\n",
       "    .dataframe thead th {\n",
       "        text-align: right;\n",
       "    }\n",
       "</style>\n",
       "<table border=\"1\" class=\"dataframe\">\n",
       "  <thead>\n",
       "    <tr style=\"text-align: right;\">\n",
       "      <th>Business</th>\n",
       "      <th>Brevant</th>\n",
       "      <th>Crop Protection</th>\n",
       "      <th>Pioneer</th>\n",
       "      <th>Specialties</th>\n",
       "    </tr>\n",
       "    <tr>\n",
       "      <th>Grower_AIN</th>\n",
       "      <th></th>\n",
       "      <th></th>\n",
       "      <th></th>\n",
       "      <th></th>\n",
       "    </tr>\n",
       "  </thead>\n",
       "  <tbody>\n",
       "    <tr>\n",
       "      <th>1000020</th>\n",
       "      <td>0.0</td>\n",
       "      <td>0.00</td>\n",
       "      <td>0.0</td>\n",
       "      <td>358.9</td>\n",
       "    </tr>\n",
       "    <tr>\n",
       "      <th>1000028</th>\n",
       "      <td>0.0</td>\n",
       "      <td>0.00</td>\n",
       "      <td>0.0</td>\n",
       "      <td>691.4</td>\n",
       "    </tr>\n",
       "    <tr>\n",
       "      <th>1000029</th>\n",
       "      <td>0.0</td>\n",
       "      <td>7419.20</td>\n",
       "      <td>0.0</td>\n",
       "      <td>0.0</td>\n",
       "    </tr>\n",
       "    <tr>\n",
       "      <th>1000030</th>\n",
       "      <td>0.0</td>\n",
       "      <td>134.80</td>\n",
       "      <td>0.0</td>\n",
       "      <td>0.0</td>\n",
       "    </tr>\n",
       "    <tr>\n",
       "      <th>1000050</th>\n",
       "      <td>0.0</td>\n",
       "      <td>28519.73</td>\n",
       "      <td>0.0</td>\n",
       "      <td>0.0</td>\n",
       "    </tr>\n",
       "  </tbody>\n",
       "</table>\n",
       "</div>"
      ],
      "text/plain": [
       "Business    Brevant  Crop Protection  Pioneer  Specialties\n",
       "Grower_AIN                                                \n",
       "1000020         0.0             0.00      0.0        358.9\n",
       "1000028         0.0             0.00      0.0        691.4\n",
       "1000029         0.0          7419.20      0.0          0.0\n",
       "1000030         0.0           134.80      0.0          0.0\n",
       "1000050         0.0         28519.73      0.0          0.0"
      ]
     },
     "execution_count": 90,
     "metadata": {},
     "output_type": "execute_result"
    }
   ],
   "source": [
    "agg1.head()"
   ]
  },
  {
   "cell_type": "code",
   "execution_count": null,
   "metadata": {},
   "outputs": [],
   "source": [
    "#basket = (df[df['Dealer_Prov'] =='SK']\n",
    " #         .groupby(['Grower_AIN', 'Prod_Category'])['SumOfSumOfConverted Acres']\n",
    "  #        .sum().unstack().reset_index().fillna(0)\n",
    "   #       .set_index('Grower_AIN'))"
   ]
  },
  {
   "cell_type": "code",
   "execution_count": null,
   "metadata": {},
   "outputs": [],
   "source": []
  },
  {
   "cell_type": "code",
   "execution_count": 91,
   "metadata": {},
   "outputs": [],
   "source": [
    "agg1['total']= agg1['Brevant'] + agg1['Crop Protection'] + agg1['Pioneer'] + agg1['Specialties']"
   ]
  },
  {
   "cell_type": "code",
   "execution_count": 56,
   "metadata": {},
   "outputs": [
    {
     "data": {
      "text/plain": [
       "pandas.core.series.Series"
      ]
     },
     "execution_count": 56,
     "metadata": {},
     "output_type": "execute_result"
    }
   ],
   "source": []
  },
  {
   "cell_type": "code",
   "execution_count": 92,
   "metadata": {},
   "outputs": [],
   "source": [
    "grower_location = sales[['Grower_AIN','city_name','province_name']]"
   ]
  },
  {
   "cell_type": "code",
   "execution_count": 93,
   "metadata": {},
   "outputs": [
    {
     "data": {
      "text/html": [
       "<div>\n",
       "<style scoped>\n",
       "    .dataframe tbody tr th:only-of-type {\n",
       "        vertical-align: middle;\n",
       "    }\n",
       "\n",
       "    .dataframe tbody tr th {\n",
       "        vertical-align: top;\n",
       "    }\n",
       "\n",
       "    .dataframe thead th {\n",
       "        text-align: right;\n",
       "    }\n",
       "</style>\n",
       "<table border=\"1\" class=\"dataframe\">\n",
       "  <thead>\n",
       "    <tr style=\"text-align: right;\">\n",
       "      <th></th>\n",
       "      <th>Grower_AIN</th>\n",
       "      <th>city_name</th>\n",
       "      <th>province_name</th>\n",
       "    </tr>\n",
       "  </thead>\n",
       "  <tbody>\n",
       "    <tr>\n",
       "      <th>0</th>\n",
       "      <td>10556</td>\n",
       "      <td>Cambridge</td>\n",
       "      <td>ON</td>\n",
       "    </tr>\n",
       "    <tr>\n",
       "      <th>1</th>\n",
       "      <td>10556</td>\n",
       "      <td>Cambridge</td>\n",
       "      <td>ON</td>\n",
       "    </tr>\n",
       "    <tr>\n",
       "      <th>2</th>\n",
       "      <td>10556</td>\n",
       "      <td>Cambridge</td>\n",
       "      <td>ON</td>\n",
       "    </tr>\n",
       "    <tr>\n",
       "      <th>3</th>\n",
       "      <td>10556</td>\n",
       "      <td>Cambridge</td>\n",
       "      <td>ON</td>\n",
       "    </tr>\n",
       "    <tr>\n",
       "      <th>4</th>\n",
       "      <td>10556</td>\n",
       "      <td>Cambridge</td>\n",
       "      <td>ON</td>\n",
       "    </tr>\n",
       "  </tbody>\n",
       "</table>\n",
       "</div>"
      ],
      "text/plain": [
       "  Grower_AIN  city_name province_name\n",
       "0      10556  Cambridge            ON\n",
       "1      10556  Cambridge            ON\n",
       "2      10556  Cambridge            ON\n",
       "3      10556  Cambridge            ON\n",
       "4      10556  Cambridge            ON"
      ]
     },
     "execution_count": 93,
     "metadata": {},
     "output_type": "execute_result"
    }
   ],
   "source": [
    "grower_location.head()"
   ]
  },
  {
   "cell_type": "code",
   "execution_count": 94,
   "metadata": {},
   "outputs": [],
   "source": [
    "grower_location=grower_location.drop_duplicates(subset='Grower_AIN', keep=\"last\")"
   ]
  },
  {
   "cell_type": "code",
   "execution_count": 98,
   "metadata": {},
   "outputs": [],
   "source": [
    "grower_location = agg1.merge(grower_location, on = 'Grower_AIN')"
   ]
  },
  {
   "cell_type": "code",
   "execution_count": 103,
   "metadata": {},
   "outputs": [],
   "source": [
    "grower_location.to_csv('grower_data.csv')"
   ]
  },
  {
   "cell_type": "code",
   "execution_count": 104,
   "metadata": {},
   "outputs": [
    {
     "data": {
      "text/html": [
       "<div>\n",
       "<style scoped>\n",
       "    .dataframe tbody tr th:only-of-type {\n",
       "        vertical-align: middle;\n",
       "    }\n",
       "\n",
       "    .dataframe tbody tr th {\n",
       "        vertical-align: top;\n",
       "    }\n",
       "\n",
       "    .dataframe thead th {\n",
       "        text-align: right;\n",
       "    }\n",
       "</style>\n",
       "<table border=\"1\" class=\"dataframe\">\n",
       "  <thead>\n",
       "    <tr style=\"text-align: right;\">\n",
       "      <th></th>\n",
       "      <th>Grower_AIN</th>\n",
       "      <th>Brevant</th>\n",
       "      <th>Crop Protection</th>\n",
       "      <th>Pioneer</th>\n",
       "      <th>Specialties</th>\n",
       "      <th>total</th>\n",
       "      <th>city_name</th>\n",
       "      <th>province_name</th>\n",
       "    </tr>\n",
       "  </thead>\n",
       "  <tbody>\n",
       "    <tr>\n",
       "      <th>0</th>\n",
       "      <td>1000020</td>\n",
       "      <td>0.0</td>\n",
       "      <td>0.00</td>\n",
       "      <td>0.0</td>\n",
       "      <td>358.9</td>\n",
       "      <td>358.90</td>\n",
       "      <td>Drayton Valley</td>\n",
       "      <td>AB</td>\n",
       "    </tr>\n",
       "    <tr>\n",
       "      <th>1</th>\n",
       "      <td>1000028</td>\n",
       "      <td>0.0</td>\n",
       "      <td>0.00</td>\n",
       "      <td>0.0</td>\n",
       "      <td>691.4</td>\n",
       "      <td>691.40</td>\n",
       "      <td>Oliver</td>\n",
       "      <td>BC</td>\n",
       "    </tr>\n",
       "    <tr>\n",
       "      <th>2</th>\n",
       "      <td>1000029</td>\n",
       "      <td>0.0</td>\n",
       "      <td>7419.20</td>\n",
       "      <td>0.0</td>\n",
       "      <td>0.0</td>\n",
       "      <td>7419.20</td>\n",
       "      <td>Richmound</td>\n",
       "      <td>SK</td>\n",
       "    </tr>\n",
       "    <tr>\n",
       "      <th>3</th>\n",
       "      <td>1000030</td>\n",
       "      <td>0.0</td>\n",
       "      <td>134.80</td>\n",
       "      <td>0.0</td>\n",
       "      <td>0.0</td>\n",
       "      <td>134.80</td>\n",
       "      <td>Richmond</td>\n",
       "      <td>BC</td>\n",
       "    </tr>\n",
       "    <tr>\n",
       "      <th>4</th>\n",
       "      <td>1000050</td>\n",
       "      <td>0.0</td>\n",
       "      <td>28519.73</td>\n",
       "      <td>0.0</td>\n",
       "      <td>0.0</td>\n",
       "      <td>28519.73</td>\n",
       "      <td>Wadena</td>\n",
       "      <td>SK</td>\n",
       "    </tr>\n",
       "  </tbody>\n",
       "</table>\n",
       "</div>"
      ],
      "text/plain": [
       "  Grower_AIN  Brevant  Crop Protection  Pioneer  Specialties     total  \\\n",
       "0    1000020      0.0             0.00      0.0        358.9    358.90   \n",
       "1    1000028      0.0             0.00      0.0        691.4    691.40   \n",
       "2    1000029      0.0          7419.20      0.0          0.0   7419.20   \n",
       "3    1000030      0.0           134.80      0.0          0.0    134.80   \n",
       "4    1000050      0.0         28519.73      0.0          0.0  28519.73   \n",
       "\n",
       "        city_name province_name  \n",
       "0  Drayton Valley            AB  \n",
       "1          Oliver            BC  \n",
       "2       Richmound            SK  \n",
       "3        Richmond            BC  \n",
       "4          Wadena            SK  "
      ]
     },
     "execution_count": 104,
     "metadata": {},
     "output_type": "execute_result"
    }
   ],
   "source": [
    "grower_location.head()"
   ]
  }
 ],
 "metadata": {
  "kernelspec": {
   "display_name": "Python 3",
   "language": "python",
   "name": "python3"
  },
  "language_info": {
   "codemirror_mode": {
    "name": "ipython",
    "version": 3
   },
   "file_extension": ".py",
   "mimetype": "text/x-python",
   "name": "python",
   "nbconvert_exporter": "python",
   "pygments_lexer": "ipython3",
   "version": "3.6.5"
  }
 },
 "nbformat": 4,
 "nbformat_minor": 2
}
